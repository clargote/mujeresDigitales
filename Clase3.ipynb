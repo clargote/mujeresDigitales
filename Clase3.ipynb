{
  "nbformat": 4,
  "nbformat_minor": 0,
  "metadata": {
    "colab": {
      "name": "Clase3.ipynb",
      "provenance": [],
      "authorship_tag": "ABX9TyMWSPMBB6BMk89Oj9KoSKMY",
      "include_colab_link": true
    },
    "kernelspec": {
      "name": "python3",
      "display_name": "Python 3"
    },
    "language_info": {
      "name": "python"
    }
  },
  "cells": [
    {
      "cell_type": "markdown",
      "metadata": {
        "id": "view-in-github",
        "colab_type": "text"
      },
      "source": [
        "<a href=\"https://colab.research.google.com/github/clargote/mujeresDigitales/blob/main/Clase3.ipynb\" target=\"_parent\"><img src=\"https://colab.research.google.com/assets/colab-badge.svg\" alt=\"Open In Colab\"/></a>"
      ]
    },
    {
      "cell_type": "markdown",
      "metadata": {
        "id": "JsKHJH1X3KBJ"
      },
      "source": [
        "**Estructuras de Vondicionales (Control)**\n",
        "\n",
        "---\n",
        "Al momento de costruir una instrucción de tipo condicional se deberá comprender que dichas instrucciones estan diseñadas para ayudar en la toma de decisiones.\n",
        "\n",
        "Ejemplo:\n",
        "SI Pedro va a la tienda por la izquierda llegará más rápido, SINO se demorará más.\n",
        "\n",
        "Existen varios tipos de instrucciones, algunos pueden ser simples y otros multiples.\n",
        "Sin embargo, solo se generan dos resultados:\n",
        "1. Verdadero\n",
        "2. Falso\n",
        "\n",
        "En Python tales resultados serían True o False.\n",
        "\n"
      ]
    },
    {
      "cell_type": "markdown",
      "metadata": {
        "id": "YZLxE2RU6Pn9"
      },
      "source": [
        "Para aplicar los condicionales que rveremos a continuación debemos recordar los comandos de operadores matemáticos vistos en la clase anterior:\n",
        "\n",
        "1. Igualdad ( == ) //  2==7//False\n",
        "2. Diferencia ( != )  // rosado = verde // True\n",
        "3. Menor que ( < )  // 12<11 // False\n",
        "4. Mayor que ( > )  // 1>1.5 // False\n",
        "5. Menor o igual que ( <= ) // 30<=30 // True\n",
        "6. Mayor o igual que ( <= ) //1>=2 // False"
      ]
    },
    {
      "cell_type": "markdown",
      "metadata": {
        "id": "eTdpiLXq7Lum"
      },
      "source": [
        "En condiciones múltiples, podemos enlazar los operadores lógicos:\n",
        "1. y ( and )\n",
        "2. o ( or )\n",
        "3. no ( not )\n",
        "\n",
        "Ejemplos:\n",
        "\n",
        "1. 3==8 and 8>12   //False\n",
        "2. 3==3 or 15<3    //True\n",
        "3. not True        //False\n"
      ]
    },
    {
      "cell_type": "markdown",
      "metadata": {
        "id": "WoBLAS8B781T"
      },
      "source": [
        "Para aplicar los operadores matemáticos y lógicos tenemos en cuenta lo que llamamos **Diagramas de flujos**, esto nos permite mayor organización de las ideas para la toma de decisiones."
      ]
    },
    {
      "cell_type": "markdown",
      "metadata": {
        "id": "Db1lJB9F8LRs"
      },
      "source": [
        ""
      ]
    }
  ]
}