{
  "nbformat": 4,
  "nbformat_minor": 0,
  "metadata": {
    "colab": {
      "name": "Clase8_taller2.ipynb",
      "provenance": [],
      "authorship_tag": "ABX9TyOcUVhbiwYNWotnGQmU3/O7",
      "include_colab_link": true
    },
    "kernelspec": {
      "name": "python3",
      "display_name": "Python 3"
    },
    "language_info": {
      "name": "python"
    }
  },
  "cells": [
    {
      "cell_type": "markdown",
      "metadata": {
        "id": "view-in-github",
        "colab_type": "text"
      },
      "source": [
        "<a href=\"https://colab.research.google.com/github/clargote/mujeresDigitales/blob/main/Clase8_taller2.ipynb\" target=\"_parent\"><img src=\"https://colab.research.google.com/assets/colab-badge.svg\" alt=\"Open In Colab\"/></a>"
      ]
    },
    {
      "cell_type": "markdown",
      "metadata": {
        "id": "oxgf-nd37tqW"
      },
      "source": [
        "**Ejercicio de funciones**\n",
        "---\n",
        "\n",
        "---\n"
      ]
    },
    {
      "cell_type": "code",
      "metadata": {
        "colab": {
          "base_uri": "https://localhost:8080/",
          "height": 130
        },
        "id": "9JEa8iGW9_NF",
        "outputId": "3100686c-8ced-4240-85dc-32bd765f4d8e"
      },
      "source": [
        "lcompras=list()\n",
        "#lcompras=[]\n",
        "\n",
        "\n",
        "while articulo=input(\"Qué productos se va a comprar?\") !=\"\" :\n",
        "   lcompras.append(articulo)\n",
        "print(lcompras)\n"
      ],
      "execution_count": 9,
      "outputs": [
        {
          "output_type": "error",
          "ename": "SyntaxError",
          "evalue": "ignored",
          "traceback": [
            "\u001b[0;36m  File \u001b[0;32m\"<ipython-input-9-db0eb8155a5b>\"\u001b[0;36m, line \u001b[0;32m5\u001b[0m\n\u001b[0;31m    while articulo=input(\"Qué productos se va a comprar?\") !=\"\" :\u001b[0m\n\u001b[0m                  ^\u001b[0m\n\u001b[0;31mSyntaxError\u001b[0m\u001b[0;31m:\u001b[0m invalid syntax\n"
          ]
        }
      ]
    },
    {
      "cell_type": "markdown",
      "metadata": {
        "id": "HDEpGURPAHZ7"
      },
      "source": [
        "**Ejercicio de práctica**\n",
        "---\n",
        "\n",
        "---\n",
        "Se le pide al analista realizar una estimación poblacional a partir de información descriptiva relevante sobre la población de los países en vía de desarrollo.\n",
        "\n",
        "Para ello de inicio se solicita que se cree un programa que permita ingresar como prueba 5 países y su respectiva población e identificar que país tiene la mayor cantidad de habitantes."
      ]
    },
    {
      "cell_type": "code",
      "metadata": {
        "colab": {
          "base_uri": "https://localhost:8080/"
        },
        "id": "KiGalT8NAo9e",
        "outputId": "3a56da6e-b28c-4a66-9ac0-b266df46f90a"
      },
      "source": [
        "def poblacion():\n",
        "  pais=[]\n",
        "  \n",
        "  for x in range(2):\n",
        "    nombre=input(\"Ingrese el nombre del país\")\n",
        "    cantidad=int(input(\"Ingrese la cantidad de habitantes\"))\n",
        "    pais.append((nombre,cantidad))\n",
        "  return pais\n",
        " \n",
        "def view(pais):\n",
        "  print(\"Habitantes por país: \")\n",
        "  for x in range(len(pais)):\n",
        "    print(pais[x][0], pais[x][1])\n",
        "\n",
        "def mayor(pais):\n",
        "  p=0\n",
        "  for x in range(1,len(pais)):\n",
        "    if pais[x][1]>pais[p][1]:\n",
        "      p=x\n",
        "  print(\"El país con la mayor población registrada es:\", pais[p][0]) #0 nombre 1 cantidad\n",
        "\n",
        "\n",
        "pais=poblacion()\n",
        "view(pais)\n",
        "mayor(pais)\n"
      ],
      "execution_count": 14,
      "outputs": [
        {
          "output_type": "stream",
          "text": [
            "Ingrese el nombre del paíssdf\n",
            "Ingrese la cantidad de habitantes3\n",
            "Ingrese el nombre del paíssfds\n",
            "Ingrese la cantidad de habitantes5\n",
            "Habitantes por país: \n",
            "sdf 3\n",
            "sfds 5\n",
            "El país con la mayor población registrada es: sfds\n"
          ],
          "name": "stdout"
        }
      ]
    },
    {
      "cell_type": "markdown",
      "metadata": {
        "id": "SUUKWYYGE8-b"
      },
      "source": [
        "**Taller 2**\n",
        "---\n",
        "\n",
        "---\n",
        "Se solicita realizar un programa que permita identificar el nivel de cumplimiento del área de ventas de la empresa AVA. Entre los principales requerimientos se encuentra lo siguientes:\n",
        "\n",
        "1. Permita ingresar la cantidad de vendedores del área de ventas.\n",
        "2. Permita ingresar la puntuación por cada uno de ellos (escala de 1 a 10)\n",
        "3. El programa debe permitar identificar el vendedor con peor rendimiento (#masbajo) y mejor rendimiento(#masalto)\n",
        "4. Obtener tambien el promedio general del nivel de cumplimiento del área de ventas.\n",
        "\n",
        "Nota: Si hay empate en la puentuación para definir el primer y ultimo puesto se define por orden alfabetico. TENER EN CUENTA:"
      ]
    },
    {
      "cell_type": "code",
      "metadata": {
        "colab": {
          "base_uri": "https://localhost:8080/"
        },
        "id": "B2MjsGJgGKXO",
        "outputId": "b9108851-4c2f-4287-eaf3-b494215807a4"
      },
      "source": [
        "se=[1,10,7,9,3,15]\n",
        "sorted(se) #Organiza en orden menor a mayor\n",
        "\n"
      ],
      "execution_count": 25,
      "outputs": [
        {
          "output_type": "execute_result",
          "data": {
            "text/plain": [
              "[1, 3, 7, 9, 10, 15]"
            ]
          },
          "metadata": {
            "tags": []
          },
          "execution_count": 25
        }
      ]
    },
    {
      "cell_type": "code",
      "metadata": {
        "colab": {
          "base_uri": "https://localhost:8080/"
        },
        "id": "r93BFLf6GjZw",
        "outputId": "08d1ba75-4d46-4a84-dd8d-801d3e560553"
      },
      "source": [
        "\n",
        "\n",
        "print(\"-------------------------------------------------------------------\")\n",
        "print(\"                         EMPRESA AVA                               \")\n",
        "print(\"             Nivel de cumplimiento del área de ventas\")\n",
        "print(\"-------------------------------------------------------------------\")\n",
        "print(\"\\n\")\n",
        "\n",
        "print(\"                   CANTIDAD DE VENDEDORES\")\n",
        "cantidadVendedor=int(input(\"\\nIngresar la cantidad de vendedores del área de ventas: \"))\n",
        "\n",
        "print(\"\\n\")\n",
        "print(\"\\n  INGRESO DE INFORMACIÓN Y CALIFICACION DE LOS VENDEDORES\")\n",
        "print(\"\\nPara ingresar la calificación de los vendedores, tenga en cuenta que la escala va de 1 a 10, donde 1 es el de más BAJO rendimiento y 10 el de más ALTO rendimiento\")\n",
        "def puntuacion():  \n",
        "  vendedor=[]\n",
        "\n",
        "  for u in range(cantidadVendedor):\n",
        "    nombre=input(\"\\nIngrese el nombre del vendedor: \")\n",
        "    puntaje=int(input(\"Ingrese la puntuación del vendedor: \"))\n",
        "    vendedor.append((nombre,puntaje))\n",
        "  return vendedor\n",
        "\n",
        "\n",
        "def menor(vendedor):\n",
        "  print(\"\\n\")\n",
        "  print(\"\\n         VENDEDOR CON MÁS BAJO DEL NIVEL DE CUMPLIMIENTO\")\n",
        "  men=0\n",
        "  for u in range(1,len(vendedor)):\n",
        "    if vendedor[u][1]<vendedor[men][1]:\n",
        "      men=u\n",
        "  print(\"\\nEl vendedor con el mas bajo rendimiento es\", vendedor[men][0].upper(), \"con puntaje obtenido de: \", vendedor[men][1]) \n",
        "\n",
        "\n",
        "\n",
        "def mayor(vendedor):\n",
        "  print(\"\\n\")\n",
        "  print(\"\\n            VENDEDOR CON MÁS ALTO RENDIMIENTO\")\n",
        "  may=0\n",
        "  for u in range(1,len(vendedor)):\n",
        "    if vendedor[u][1]>vendedor[may][1]:\n",
        "      may=u\n",
        "  print(\"\\nEl vendedor con el mas alto rendimiento es\", (vendedor[may][0]).upper(), \"con puntaje obtenido de: \", vendedor[may][1]) \n",
        "\n",
        "def promedio(vendedor):\n",
        "  print(\"\\n\")\n",
        "  print(\"\\n            PROMEDIO GENERAL DEL RENDIMIENTO\")\n",
        "  prom=0\n",
        "  for u in range(len(vendedor)):\n",
        "    prom = prom + (vendedor[u][1]) /len(vendedor)\n",
        "  print(\"\\nEl promedio general del número del nivel de cumplimiento  del área de ventas es: \", round(prom,2))\n",
        "\n",
        "\n",
        "vendedor=puntuacion()\n",
        "menor(vendedor)\n",
        "mayor(vendedor)\n",
        "promedio(vendedor)\n"
      ],
      "execution_count": 61,
      "outputs": [
        {
          "output_type": "stream",
          "text": [
            "-------------------------------------------------------------------\n",
            "                         EMPRESA AVA                               \n",
            "             Nivel de cumplimiento del área de ventas\n",
            "-------------------------------------------------------------------\n",
            "\n",
            "\n",
            "                   CANTIDAD DE VENDEDORES\n",
            "\n",
            "Ingresar la cantidad de vendedores del área de ventas: 2\n",
            "\n",
            "\n",
            "\n",
            "  INGRESO DE INFORMACIÓN Y CALIFICACION DE LOS VENDEDORES\n",
            "\n",
            "Para ingresar la calificación de los vendedores, tenga en cuenta que la escala va de 1 a 10, donde 1 es el de más BAJO rendimiento y 10 el de más ALTO rendimiento\n",
            "\n",
            "Ingrese el nombre del vendedor: carlos\n",
            "Ingrese la puntuación del vendedor: 5\n",
            "\n",
            "Ingrese el nombre del vendedor: ven\n",
            "Ingrese la puntuación del vendedor: 5\n",
            "\n",
            "\n",
            "\n",
            "         VENDEDOR CON MÁS BAJO DEL NIVEL DE CUMPLIMIENTO\n",
            "\n",
            "El vendedor con el mas bajo rendimiento es CARLOS con puntaje obtenido de:  5\n",
            "\n",
            "\n",
            "\n",
            "            VENDEDOR CON MÁS ALTO RENDIMIENTO\n",
            "\n",
            "El vendedor con el mas alto rendimiento es CARLOS con puntaje obtenido de:  5\n",
            "\n",
            "\n",
            "\n",
            "            PROMEDIO GENERAL DEL RENDIMIENTO\n",
            "\n",
            "El promedio general del número del nivel de cumplimiento  del área de ventas es:  5.0\n"
          ],
          "name": "stdout"
        }
      ]
    },
    {
      "cell_type": "code",
      "metadata": {
        "id": "MxlOaEAai5TC"
      },
      "source": [
        "\n",
        "\n",
        "print(\"-------------------------------------------------------------------\")\n",
        "print(\"                         EMPRESA AVA                               \")\n",
        "print(\"             Nivel de cumplimiento del área de ventas\")\n",
        "print(\"-------------------------------------------------------------------\")\n",
        "print(\"\\n\")\n",
        "\n",
        "print(\"                   CANTIDAD DE VENDEDORES\")\n",
        "cantidadVendedor=int(input(\"\\nIngresar la cantidad de vendedores del área de ventas: \"))\n",
        "\n",
        "print(\"\\n\")\n",
        "print(\"\\n  INGRESO DE INFORMACIÓN Y CALIFICACION DE LOS VENDEDORES\")\n",
        "print(\"\\nPara ingresar la calificación de los vendedores, tenga en cuenta que la escala va de 1 a 10, donde 1 es el de más BAJO rendimiento y 10 el de más ALTO rendimiento\")\n",
        "def puntuacion():  \n",
        "  vendedor=[]\n",
        "\n",
        "  for u in range(cantidadVendedor):\n",
        "    nombre=input(\"\\nIngrese el nombre del vendedor: \")\n",
        "    puntaje=int(input(\"Ingrese la puntuación del vendedor: \"))\n",
        "    vendedor.append((nombre,puntaje))\n",
        "  return vendedor\n",
        "\n",
        "\n",
        "def menor(vendedor):\n",
        "  print(\"\\n\")\n",
        "  print(\"\\n         VENDEDOR CON MÁS BAJO DEL NIVEL DE CUMPLIMIENTO\")\n",
        "  men=0\n",
        "  for u in range(1,len(vendedor)):\n",
        "    if vendedor[u][1]<vendedor[men][1]:\n",
        "      men=u\n",
        "  print(\"\\nEl vendedor con el mas bajo rendimiento es\", vendedor[men][0].upper(), \"con puntaje obtenido de: \", vendedor[men][1]) \n",
        "\n",
        "\n",
        "vendedor=puntuacion()\n",
        "menor(vendedor)\n"
      ],
      "execution_count": null,
      "outputs": []
    }
  ]
}