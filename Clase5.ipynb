{
  "nbformat": 4,
  "nbformat_minor": 0,
  "metadata": {
    "colab": {
      "name": "Clase5.ipynb",
      "provenance": [],
      "authorship_tag": "ABX9TyPI8OksXsx/Ur4UVnDHLGgE",
      "include_colab_link": true
    },
    "kernelspec": {
      "name": "python3",
      "display_name": "Python 3"
    },
    "language_info": {
      "name": "python"
    }
  },
  "cells": [
    {
      "cell_type": "markdown",
      "metadata": {
        "id": "view-in-github",
        "colab_type": "text"
      },
      "source": [
        "<a href=\"https://colab.research.google.com/github/clargote/mujeresDigitales/blob/main/Clase5.ipynb\" target=\"_parent\"><img src=\"https://colab.research.google.com/assets/colab-badge.svg\" alt=\"Open In Colab\"/></a>"
      ]
    },
    {
      "cell_type": "markdown",
      "metadata": {
        "id": "FZNKGlexptZ_"
      },
      "source": [
        "**Continuación de Ciclos**\n",
        "\n",
        "---\n",
        "**Ciclo FOR  -  bUCLE FOR"
      ]
    },
    {
      "cell_type": "code",
      "metadata": {
        "colab": {
          "base_uri": "https://localhost:8080/"
        },
        "id": "_FMUhL9VZ5PM",
        "outputId": "b79138b8-0688-470e-d925-aca5c7ec1517"
      },
      "source": [
        "for i in range(1,5): (no toma el 5 es menos 1)\n",
        "  print(i)"
      ],
      "execution_count": 1,
      "outputs": [
        {
          "output_type": "stream",
          "text": [
            "1\n",
            "2\n",
            "3\n",
            "4\n"
          ],
          "name": "stdout"
        }
      ]
    },
    {
      "cell_type": "markdown",
      "metadata": {
        "id": "E2uHPeYDqMYh"
      },
      "source": [
        "Para dejar claro las partes que compoenen el bucle FOR, vamos a dejar clar las siguientes definiciones:\n",
        "\n",
        "1. **Iterable**: Los objetos que pueden ser iterados. Por ejemplo una lista, valor tipo cadena, etc.\n",
        "2. **Iterador**:Son objetos que hacen referencia a un elemento (Para hacer referencia a cada uno de los elementos hay un método denominado **next** que permite hacer referencia a los elementos del conjunto.\n"
      ]
    }
  ]
}