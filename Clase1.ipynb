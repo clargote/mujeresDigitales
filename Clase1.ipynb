{
  "nbformat": 4,
  "nbformat_minor": 0,
  "metadata": {
    "colab": {
      "name": "Clase1.ipynb",
      "provenance": [],
      "authorship_tag": "ABX9TyOquuT0x20elN/Z4+efRVPI",
      "include_colab_link": true
    },
    "kernelspec": {
      "name": "python3",
      "display_name": "Python 3"
    },
    "language_info": {
      "name": "python"
    }
  },
  "cells": [
    {
      "cell_type": "markdown",
      "metadata": {
        "id": "view-in-github",
        "colab_type": "text"
      },
      "source": [
        "<a href=\"https://colab.research.google.com/github/clargote/mujeresDigitales/blob/main/Clase1.ipynb\" target=\"_parent\"><img src=\"https://colab.research.google.com/assets/colab-badge.svg\" alt=\"Open In Colab\"/></a>"
      ]
    },
    {
      "cell_type": "markdown",
      "metadata": {
        "id": "5FYnrBrfofps"
      },
      "source": [
        "\n",
        "**Introducción**\n",
        "---\n",
        "Para manejar un código limpio en Python:\n",
        "podemos seguir las siguientes recomendaciones:\n",
        "\n",
        "1. Manejar siempre minúsculas\n",
        "2. Se le puede añadir números\n",
        "3. Aparecerá errores si no estan seguidos la declaración de la variable con el numero asignado, es decir. Ejemplo ana1 (correcto) y ana 1 (incorrecto - error)\n",
        "\n",
        "\n",
        "En Python hay varios tipos de datos Compuestos y estan disponibles por defecto en los interpretes (Convierte codigo a un lenguaje natural colab, anaconda es un interprete de python)\n",
        "\n",
        "**¿De qué tipos?**\n",
        " 1. Númericos\n",
        " 2. secuencias\n",
        " 3. Mapeos\n",
        " 4. Conjuntos usados para agrupar otros valores\n",
        "\n",
        " **Diferencia entre Constantes y Variables**\n",
        "En matemáticas llamamos constante a una magnitud que no cambia con el paso del tiempo.\n",
        "Ejemplo: Contabilidad: Gastos fijos\n",
        "Ejemplo 2: 6\n",
        "\n",
        "Por otrol lado, el concepto de variable, como la cantidad que es susceptible a tomar distintos valors numéricos. **Ejemplo**\n",
        "\n"
      ]
    },
    {
      "cell_type": "code",
      "metadata": {
        "colab": {
          "base_uri": "https://localhost:8080/"
        },
        "id": "NEDuDuvPqxsM",
        "outputId": "15e2114c-1324-4845-b445-aeb776cbaf7c"
      },
      "source": [
        "x=5\n",
        "print(x)"
      ],
      "execution_count": 3,
      "outputs": [
        {
          "output_type": "stream",
          "text": [
            "5\n"
          ],
          "name": "stdout"
        }
      ]
    },
    {
      "cell_type": "markdown",
      "metadata": {
        "id": "Pp4Vt4OMrYJ9"
      },
      "source": [
        "**Tipos de datos**\n",
        "\n",
        "---\n",
        "\n",
        "**Enteros**\n",
        "Son los números que no tienen decimales\n",
        "Pueden ser positivos y negativos"
      ]
    },
    {
      "cell_type": "code",
      "metadata": {
        "colab": {
          "base_uri": "https://localhost:8080/"
        },
        "id": "4uishOcsrrfj",
        "outputId": "3fa15039-9232-49cd-a6e0-190ffe14d549"
      },
      "source": [
        "a=int(3)\n",
        "print(a)"
      ],
      "execution_count": 6,
      "outputs": [
        {
          "output_type": "stream",
          "text": [
            "3\n"
          ],
          "name": "stdout"
        }
      ]
    },
    {
      "cell_type": "markdown",
      "metadata": {
        "id": "fTKXirSAsDdO"
      },
      "source": [
        "El comando *int* es para hacer alución a números enteros.\n",
        "A parte el comando *float*, permite valores con decimales\n"
      ]
    },
    {
      "cell_type": "code",
      "metadata": {
        "colab": {
          "base_uri": "https://localhost:8080/"
        },
        "id": "wiXvXk50snMU",
        "outputId": "3a427515-5761-474e-b30e-0a7db03463d4"
      },
      "source": [
        "b=float(8.25)\n",
        "print(b)"
      ],
      "execution_count": 11,
      "outputs": [
        {
          "output_type": "stream",
          "text": [
            "8.25\n"
          ],
          "name": "stdout"
        }
      ]
    },
    {
      "cell_type": "markdown",
      "metadata": {
        "id": "fN8q3DjFscHe"
      },
      "source": [
        "**Tipo cadena**\n",
        "\n",
        "---\n",
        "\n",
        "Las cadenas de texto encerrado entre comillas (simples ' o dobles \") y se pueden conformar de diferentes caracteres (numéricos, alfabéticos, especiales #$%)\n",
        "tener en cueta, las cadenas admiten operadores como la suma y la resta. (Variable String)\n"
      ]
    },
    {
      "cell_type": "code",
      "metadata": {
        "colab": {
          "base_uri": "https://localhost:8080/"
        },
        "id": "QWcG7A__tgA0",
        "outputId": "fcfeda26-cdde-42a6-a871-40112fb63448"
      },
      "source": [
        "val1=\"Lorena\"\n",
        "print(val1)\n",
        "\n",
        "val2=\"Hola mundo\"\n",
        "print (val2)\n",
        "\n",
        "n= \"Aprender\"\n",
        "z=\"Python\"\n",
        "nz= n+\" \"+z\n",
        "print (nz)"
      ],
      "execution_count": 20,
      "outputs": [
        {
          "output_type": "stream",
          "text": [
            "Lorena\n",
            "Hola mundo\n",
            "Aprender Python\n"
          ],
          "name": "stdout"
        }
      ]
    }
  ]
}