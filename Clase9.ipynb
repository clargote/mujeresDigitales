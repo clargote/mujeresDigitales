{
  "nbformat": 4,
  "nbformat_minor": 0,
  "metadata": {
    "colab": {
      "name": "Clase9.ipynb",
      "provenance": [],
      "authorship_tag": "ABX9TyMDG55ccZHrDrg0a4FYuPNz",
      "include_colab_link": true
    },
    "kernelspec": {
      "name": "python3",
      "display_name": "Python 3"
    },
    "language_info": {
      "name": "python"
    }
  },
  "cells": [
    {
      "cell_type": "markdown",
      "metadata": {
        "id": "view-in-github",
        "colab_type": "text"
      },
      "source": [
        "<a href=\"https://colab.research.google.com/github/clargote/mujeresDigitales/blob/main/Clase9.ipynb\" target=\"_parent\"><img src=\"https://colab.research.google.com/assets/colab-badge.svg\" alt=\"Open In Colab\"/></a>"
      ]
    },
    {
      "cell_type": "markdown",
      "metadata": {
        "id": "8T0w1QTQbV8P"
      },
      "source": [
        "Docente: Sebastian Duque\n",
        "\n",
        "\n",
        "SERIES\n",
        "---\n",
        "Se usan para modelar "
      ]
    },
    {
      "cell_type": "code",
      "metadata": {
        "colab": {
          "base_uri": "https://localhost:8080/"
        },
        "id": "xhqB7V7JuwTq",
        "outputId": "9c06c66e-0b91-463b-ffd0-93de2cfbdc54"
      },
      "source": [
        "import pandas as pd #alias pd\n",
        "pd.Series([145,142,35,13]) "
      ],
      "execution_count": 9,
      "outputs": [
        {
          "output_type": "execute_result",
          "data": {
            "text/plain": [
              "0    145\n",
              "1    142\n",
              "2     35\n",
              "3     13\n",
              "dtype: int64"
            ]
          },
          "metadata": {
            "tags": []
          },
          "execution_count": 9
        }
      ]
    },
    {
      "cell_type": "code",
      "metadata": {
        "colab": {
          "base_uri": "https://localhost:8080/"
        },
        "id": "UnoAoL2MbR4X",
        "outputId": "b27aaa21-2ae6-4485-a05e-792b2b05c93b"
      },
      "source": [
        "import pandas as pd #alias pd\n",
        "david= pd.Series([145,142,35,13],name=\"counts\")  #convertió una lista en series, el nombre es conteo\n",
        "print(type(david))\n",
        "david"
      ],
      "execution_count": 11,
      "outputs": [
        {
          "output_type": "stream",
          "text": [
            "<class 'pandas.core.series.Series'>\n"
          ],
          "name": "stdout"
        },
        {
          "output_type": "execute_result",
          "data": {
            "text/plain": [
              "0    145\n",
              "1    142\n",
              "2     35\n",
              "3     13\n",
              "Name: counts, dtype: int64"
            ]
          },
          "metadata": {
            "tags": []
          },
          "execution_count": 11
        }
      ]
    },
    {
      "cell_type": "code",
      "metadata": {
        "colab": {
          "base_uri": "https://localhost:8080/"
        },
        "id": "pz_aHic6vG1y",
        "outputId": "bf3252fe-827d-49e9-cae0-851ee3720e85"
      },
      "source": [
        "import pandas as pd #alias pd\n",
        "david= pd.Series([145,142,35,13,\"abc\"],name=\"counts\")  #cambio tipo de datos\n",
        "print(type(david))\n",
        "david"
      ],
      "execution_count": 12,
      "outputs": [
        {
          "output_type": "stream",
          "text": [
            "<class 'pandas.core.series.Series'>\n"
          ],
          "name": "stdout"
        },
        {
          "output_type": "execute_result",
          "data": {
            "text/plain": [
              "0    145\n",
              "1    142\n",
              "2     35\n",
              "3     13\n",
              "4    abc\n",
              "Name: counts, dtype: object"
            ]
          },
          "metadata": {
            "tags": []
          },
          "execution_count": 12
        }
      ]
    },
    {
      "cell_type": "code",
      "metadata": {
        "colab": {
          "base_uri": "https://localhost:8080/"
        },
        "id": "lk8eRLWEuh7o",
        "outputId": "a5f7be20-ce94-4439-f257-87b80ebcc5f2"
      },
      "source": [
        "import pandas as pd #alias pd\n",
        "david= pd.Series([\"a\",\"b\",\"c\"])  #convertió una lista en series\n",
        "print(type(david))\n",
        "david"
      ],
      "execution_count": 10,
      "outputs": [
        {
          "output_type": "stream",
          "text": [
            "<class 'pandas.core.series.Series'>\n"
          ],
          "name": "stdout"
        },
        {
          "output_type": "execute_result",
          "data": {
            "text/plain": [
              "0    a\n",
              "1    b\n",
              "2    c\n",
              "dtype: object"
            ]
          },
          "metadata": {
            "tags": []
          },
          "execution_count": 10
        }
      ]
    },
    {
      "cell_type": "markdown",
      "metadata": {
        "id": "Tzg7hiswt-Uc"
      },
      "source": [
        ""
      ]
    },
    {
      "cell_type": "code",
      "metadata": {
        "colab": {
          "base_uri": "https://localhost:8080/"
        },
        "id": "B4z_q2mrvS-a",
        "outputId": "7d5c04db-108e-42d9-ecf6-e07009b82d77"
      },
      "source": [
        "print(david.index)"
      ],
      "execution_count": 14,
      "outputs": [
        {
          "output_type": "stream",
          "text": [
            "RangeIndex(start=0, stop=5, step=1)\n"
          ],
          "name": "stdout"
        }
      ]
    },
    {
      "cell_type": "code",
      "metadata": {
        "colab": {
          "base_uri": "https://localhost:8080/"
        },
        "id": "3d-2U43ovZyx",
        "outputId": "262768ff-59c8-4974-eb7e-2323af66b5af"
      },
      "source": [
        "print(david.values)"
      ],
      "execution_count": 16,
      "outputs": [
        {
          "output_type": "stream",
          "text": [
            "[145 142 35 13 'abc']\n"
          ],
          "name": "stdout"
        }
      ]
    },
    {
      "cell_type": "code",
      "metadata": {
        "colab": {
          "base_uri": "https://localhost:8080/"
        },
        "id": "PBA5jNMPvjRB",
        "outputId": "8f8091c0-bfb1-4464-ae32-57ba8e71b47e"
      },
      "source": [
        "print(type((david.values)))"
      ],
      "execution_count": 17,
      "outputs": [
        {
          "output_type": "stream",
          "text": [
            "<class 'numpy.ndarray'>\n"
          ],
          "name": "stdout"
        }
      ]
    },
    {
      "cell_type": "code",
      "metadata": {
        "colab": {
          "base_uri": "https://localhost:8080/"
        },
        "id": "k2wHBHFqvsvh",
        "outputId": "99bd4f3a-a879-42c0-cd09-131c43e196f7"
      },
      "source": [
        "#El indice no necesariamente tiene que ser un número\n",
        "david3 = pd.Series([145,142,38,13],name=\"counts\",index=[\"juan\",\"pedro\",\"andrea\",\"nicol\"])\n",
        "print(david3)\n",
        "print(\"----\")\n",
        "print(david3.index)\n",
        "print(\"----\")\n",
        "print(david3.values)"
      ],
      "execution_count": 54,
      "outputs": [
        {
          "output_type": "stream",
          "text": [
            "juan      145\n",
            "pedor     142\n",
            "andrea     38\n",
            "nicol      13\n",
            "Name: counts, dtype: int64\n",
            "----\n",
            "Index(['juan', 'pedor', 'andrea', 'nicol'], dtype='object')\n",
            "----\n",
            "[145 142  38  13]\n"
          ],
          "name": "stdout"
        }
      ]
    },
    {
      "cell_type": "code",
      "metadata": {
        "colab": {
          "base_uri": "https://localhost:8080/"
        },
        "id": "3JX3OnfF1OtJ",
        "outputId": "7bf4f8cd-54b0-4fb7-8890-6b157773963b"
      },
      "source": [
        "david3[\"juan\"]"
      ],
      "execution_count": 52,
      "outputs": [
        {
          "output_type": "execute_result",
          "data": {
            "text/plain": [
              "145"
            ]
          },
          "metadata": {
            "tags": []
          },
          "execution_count": 52
        }
      ]
    },
    {
      "cell_type": "code",
      "metadata": {
        "colab": {
          "base_uri": "https://localhost:8080/"
        },
        "id": "Zb9L1mV31a6s",
        "outputId": "6b9b800e-1813-41c9-d6aa-fa027a5e204c"
      },
      "source": [
        "david3[[\"andrea\",\"juan\"]]"
      ],
      "execution_count": 51,
      "outputs": [
        {
          "output_type": "execute_result",
          "data": {
            "text/plain": [
              "andrea     38\n",
              "juan      145\n",
              "Name: counts, dtype: int64"
            ]
          },
          "metadata": {
            "tags": []
          },
          "execution_count": 51
        }
      ]
    },
    {
      "cell_type": "markdown",
      "metadata": {
        "id": "3ohHT0E4xSVw"
      },
      "source": [
        "Serie de números impares\n",
        "----"
      ]
    },
    {
      "cell_type": "markdown",
      "metadata": {
        "id": "VeYCfKFpzZm_"
      },
      "source": [
        "1. A partir de una lista"
      ]
    },
    {
      "cell_type": "code",
      "metadata": {
        "colab": {
          "base_uri": "https://localhost:8080/"
        },
        "id": "BrJIfdtfwdd5",
        "outputId": "61b4cf0b-4714-44e4-a2aa-633f2270e3be"
      },
      "source": [
        "import pandas as pd   #primero importar libreria Pandas\n",
        "impares=pd.Series([1,3,5,7,9,11,13,15],name=\"impares\")\n",
        "print(impares)"
      ],
      "execution_count": 43,
      "outputs": [
        {
          "output_type": "stream",
          "text": [
            "0     1\n",
            "1     3\n",
            "2     5\n",
            "3     7\n",
            "4     9\n",
            "5    11\n",
            "6    13\n",
            "7    15\n",
            "Name: impares, dtype: int64\n"
          ],
          "name": "stdout"
        }
      ]
    },
    {
      "cell_type": "markdown",
      "metadata": {
        "id": "Xui9EMF4zdtb"
      },
      "source": [
        "2. A partir de la funcion range"
      ]
    },
    {
      "cell_type": "code",
      "metadata": {
        "colab": {
          "base_uri": "https://localhost:8080/"
        },
        "id": "xn3UDokVyoYL",
        "outputId": "55141831-82cc-414a-fa69-e7385e4ddd7e"
      },
      "source": [
        "import pandas as pd\n",
        "impares=pd.Series(range(1,16,2),name=\"impares\")\n",
        "print(impares)"
      ],
      "execution_count": 34,
      "outputs": [
        {
          "output_type": "stream",
          "text": [
            "0     1\n",
            "1     3\n",
            "2     5\n",
            "3     7\n",
            "4     9\n",
            "5    11\n",
            "6    13\n",
            "7    15\n",
            "Name: impares, dtype: int64\n"
          ],
          "name": "stdout"
        }
      ]
    },
    {
      "cell_type": "code",
      "metadata": {
        "colab": {
          "base_uri": "https://localhost:8080/"
        },
        "id": "El_1FTqcxJIi",
        "outputId": "da8eb008-d28e-4d35-c4b2-4dcff0b28354"
      },
      "source": [
        "for i in range(1,16,2):\n",
        "  print(i)\n"
      ],
      "execution_count": 42,
      "outputs": [
        {
          "output_type": "stream",
          "text": [
            "1\n",
            "3\n",
            "5\n",
            "7\n",
            "9\n",
            "11\n",
            "13\n",
            "15\n"
          ],
          "name": "stdout"
        }
      ]
    },
    {
      "cell_type": "code",
      "metadata": {
        "colab": {
          "base_uri": "https://localhost:8080/"
        },
        "id": "YVbrBQv80dgA",
        "outputId": "ac794fbf-9ffc-4565-ecc1-16457262338f"
      },
      "source": [
        "g2= pd.Series({\"1969\":7,\"1970\":[1,22]})\n",
        "print(g2)"
      ],
      "execution_count": 46,
      "outputs": [
        {
          "output_type": "stream",
          "text": [
            "1969          7\n",
            "1970    [1, 22]\n",
            "dtype: object\n"
          ],
          "name": "stdout"
        }
      ]
    },
    {
      "cell_type": "code",
      "metadata": {
        "colab": {
          "base_uri": "https://localhost:8080/",
          "height": 181
        },
        "id": "8CaUodIE06Ci",
        "outputId": "44a1c444-13ee-4e7b-890d-c4e38dcac682"
      },
      "source": [
        "cidys =pd.Series([10,7,1,22], index[\"1968\",\"1969\",\"1970\",\"1971\"])\n",
        "print(cidys[\"1968\"])"
      ],
      "execution_count": 55,
      "outputs": [
        {
          "output_type": "error",
          "ename": "NameError",
          "evalue": "ignored",
          "traceback": [
            "\u001b[0;31m---------------------------------------------------------------------------\u001b[0m",
            "\u001b[0;31mNameError\u001b[0m                                 Traceback (most recent call last)",
            "\u001b[0;32m<ipython-input-55-5035d0b7301e>\u001b[0m in \u001b[0;36m<module>\u001b[0;34m()\u001b[0m\n\u001b[0;32m----> 1\u001b[0;31m \u001b[0mcidys\u001b[0m \u001b[0;34m=\u001b[0m\u001b[0mpd\u001b[0m\u001b[0;34m.\u001b[0m\u001b[0mSeries\u001b[0m\u001b[0;34m(\u001b[0m\u001b[0;34m[\u001b[0m\u001b[0;36m10\u001b[0m\u001b[0;34m,\u001b[0m\u001b[0;36m7\u001b[0m\u001b[0;34m,\u001b[0m\u001b[0;36m1\u001b[0m\u001b[0;34m,\u001b[0m\u001b[0;36m22\u001b[0m\u001b[0;34m]\u001b[0m\u001b[0;34m,\u001b[0m \u001b[0mindex\u001b[0m\u001b[0;34m[\u001b[0m\u001b[0;34m\"1968\"\u001b[0m\u001b[0;34m,\u001b[0m\u001b[0;34m\"1969\"\u001b[0m\u001b[0;34m,\u001b[0m\u001b[0;34m\"1970\"\u001b[0m\u001b[0;34m,\u001b[0m\u001b[0;34m\"1971\"\u001b[0m\u001b[0;34m]\u001b[0m\u001b[0;34m)\u001b[0m\u001b[0;34m\u001b[0m\u001b[0;34m\u001b[0m\u001b[0m\n\u001b[0m\u001b[1;32m      2\u001b[0m \u001b[0mprint\u001b[0m\u001b[0;34m(\u001b[0m\u001b[0mcidys\u001b[0m\u001b[0;34m)\u001b[0m\u001b[0;34m\u001b[0m\u001b[0;34m\u001b[0m\u001b[0m\n",
            "\u001b[0;31mNameError\u001b[0m: name 'index' is not defined"
          ]
        }
      ]
    },
    {
      "cell_type": "markdown",
      "metadata": {
        "id": "_Pn5DLTJ2Th0"
      },
      "source": [
        "a partir de la serie de 1 al 15 de numeros impares, usando esta serie y vamos a obtener los valores del indice del 2 al valor 4"
      ]
    },
    {
      "cell_type": "code",
      "metadata": {
        "colab": {
          "base_uri": "https://localhost:8080/"
        },
        "id": "BIi63qAs2OTs",
        "outputId": "6fc0b5c1-7060-41d5-fae9-2b7be2754f41"
      },
      "source": [
        "import pandas as pd   #primero importar libreria Pandas\n",
        "impares=pd.Series([1,3,5,7,9,11,13,15],name=\"impares\")\n",
        "impares[range(2,5)]"
      ],
      "execution_count": 61,
      "outputs": [
        {
          "output_type": "execute_result",
          "data": {
            "text/plain": [
              "2    5\n",
              "3    7\n",
              "4    9\n",
              "Name: impares, dtype: int64"
            ]
          },
          "metadata": {
            "tags": []
          },
          "execution_count": 61
        }
      ]
    }
  ]
}