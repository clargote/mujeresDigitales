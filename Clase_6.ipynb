{
  "nbformat": 4,
  "nbformat_minor": 0,
  "metadata": {
    "colab": {
      "name": "Clase 6.ipynb",
      "provenance": [],
      "authorship_tag": "ABX9TyP2gSshKTPIQT47X+o6tnnt",
      "include_colab_link": true
    },
    "kernelspec": {
      "name": "python3",
      "display_name": "Python 3"
    },
    "language_info": {
      "name": "python"
    }
  },
  "cells": [
    {
      "cell_type": "markdown",
      "metadata": {
        "id": "view-in-github",
        "colab_type": "text"
      },
      "source": [
        "<a href=\"https://colab.research.google.com/github/clargote/mujeresDigitales/blob/main/Clase_6.ipynb\" target=\"_parent\"><img src=\"https://colab.research.google.com/assets/colab-badge.svg\" alt=\"Open In Colab\"/></a>"
      ]
    },
    {
      "cell_type": "markdown",
      "metadata": {
        "id": "L6i3D28Iop-Q"
      },
      "source": [
        "**CONTINUACIÓN DE LOS EJEMPLOS DEL USO DE LISTA DE COMPRENSIÓN**\n",
        "\n",
        "---\n",
        "\n",
        "COMPRENSIÓN DE CONJUNTOS\n",
        "\n",
        "\n",
        "---\n",
        "La comprensión de conjuntos es muy similar a la que veniamos manejando con listas. La única diferencia es que se usa los corchetes { }\n",
        "\n",
        "\n",
        "Recordemos que los conjuntos tambien denominados **sets** no permiten duplicados, es decir cada elemento es único. Si se llega añadir un elemento repetitivo no arrojará error pero no se mostrará en el print.\n"
      ]
    },
    {
      "cell_type": "code",
      "metadata": {
        "colab": {
          "base_uri": "https://localhost:8080/"
        },
        "id": "m9wzk5SRpl4A",
        "outputId": "27bb8b1d-ae6b-4485-e0be-1efc94893e15"
      },
      "source": [
        "sa=\"ema ama a mama\"    # como los conjuntos no aceptan valores repetitivos sino una sola vez, caso contarrio la lista, si lo nombro como [] si lo hace\n",
        "sa2={i for i in sa if i==\"m\"}\n",
        "print(sa2)"
      ],
      "execution_count": 2,
      "outputs": [
        {
          "output_type": "stream",
          "text": [
            "{'m'}\n"
          ],
          "name": "stdout"
        }
      ]
    },
    {
      "cell_type": "markdown",
      "metadata": {
        "id": "D0gv97y2qa6Q"
      },
      "source": [
        "Ahora, veamos a continuación el caso de diccionarios de comprensión.  La única diferencia que tiene respecto a las listas o conjuntos de comprensión es la especificación de llaves o claves(key)."
      ]
    },
    {
      "cell_type": "code",
      "metadata": {
        "colab": {
          "base_uri": "https://localhost:8080/"
        },
        "id": "ZhL15WuOq0De",
        "outputId": "45353b47-f353-4540-cd24-2d7a63ba0ec6"
      },
      "source": [
        "lista1=[\"nombre\",\"apellido\",\"ciudad\"]  #tiene las etiquetas, las claves\n",
        "lista2=[\"Ana\", \"Rodriguez\",\"Popayan\"]\n",
        "\n",
        "dict={i:j for i,j in zip(lista1,lista2)} # zip ayuda a agrupar dos listas\n",
        "print(dict)"
      ],
      "execution_count": 4,
      "outputs": [
        {
          "output_type": "stream",
          "text": [
            "{'nombre': 'Ana', 'apellido': 'Rodriguez', 'ciudad': 'Popayan'}\n"
          ],
          "name": "stdout"
        }
      ]
    },
    {
      "cell_type": "markdown",
      "metadata": {
        "id": "CxPb0FLOr2wb"
      },
      "source": [
        "Pudimos observar que añadiendo:\n",
        "Asignamos un valor a la llave declarada, a su vez, usamos **zip()** el cual tiene como función iterar dos listas en paralelo. Es decir con zip podemos convertir dos listas en un diccionario y el for se manejaría iterando dos valores en simultaneo."
      ]
    },
    {
      "cell_type": "code",
      "metadata": {
        "id": "ysYzkbh0ryQc"
      },
      "source": [
        ""
      ],
      "execution_count": null,
      "outputs": []
    }
  ]
}