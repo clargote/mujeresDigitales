{
  "nbformat": 4,
  "nbformat_minor": 0,
  "metadata": {
    "colab": {
      "name": "Clase3.ipynb",
      "provenance": [],
      "authorship_tag": "ABX9TyOdxBSj6Pm6tWRE2YU042zh",
      "include_colab_link": true
    },
    "kernelspec": {
      "name": "python3",
      "display_name": "Python 3"
    },
    "language_info": {
      "name": "python"
    }
  },
  "cells": [
    {
      "cell_type": "markdown",
      "metadata": {
        "id": "view-in-github",
        "colab_type": "text"
      },
      "source": [
        "<a href=\"https://colab.research.google.com/github/clargote/mujeresDigitales/blob/main/Clase3.ipynb\" target=\"_parent\"><img src=\"https://colab.research.google.com/assets/colab-badge.svg\" alt=\"Open In Colab\"/></a>"
      ]
    },
    {
      "cell_type": "markdown",
      "metadata": {
        "id": "JsKHJH1X3KBJ"
      },
      "source": [
        "**Estructuras de Condicionales (Control)**\n",
        "\n",
        "---\n",
        "Al momento de costruir una instrucción de tipo condicional se deberá comprender que dichas instrucciones estan diseñadas para ayudar en la toma de decisiones.\n",
        "\n",
        "Ejemplo:\n",
        "SI Pedro va a la tienda por la izquierda llegará más rápido, SINO se demorará más.\n",
        "\n",
        "Existen varios tipos de instrucciones, algunos pueden ser simples y otros multiples.\n",
        "Sin embargo, solo se generan dos resultados:\n",
        "1. Verdadero\n",
        "2. Falso\n",
        "\n",
        "En Python tales resultados serían True o False.\n",
        "\n"
      ]
    },
    {
      "cell_type": "markdown",
      "metadata": {
        "id": "YZLxE2RU6Pn9"
      },
      "source": [
        "Para aplicar los condicionales que rveremos a continuación debemos recordar los comandos de operadores matemáticos vistos en la clase anterior:\n",
        "\n",
        "1. Igualdad ( == ) //  2==7//False\n",
        "2. Diferencia ( != )  // rosado = verde // True\n",
        "3. Menor que ( < )  // 12<11 // False\n",
        "4. Mayor que ( > )  // 1>1.5 // False\n",
        "5. Menor o igual que ( <= ) // 30<=30 // True\n",
        "6. Mayor o igual que ( <= ) //1>=2 // False"
      ]
    },
    {
      "cell_type": "markdown",
      "metadata": {
        "id": "eTdpiLXq7Lum"
      },
      "source": [
        "En condiciones múltiples, podemos enlazar los operadores lógicos:\n",
        "1. y ( and )\n",
        "2. o ( or )\n",
        "3. no ( not )\n",
        "\n",
        "Ejemplos:\n",
        "\n",
        "1. 3==8 and 8>12   //False\n",
        "2. 3==3 or 15<3    //True\n",
        "3. not True        //False\n"
      ]
    },
    {
      "cell_type": "markdown",
      "metadata": {
        "id": "WoBLAS8B781T"
      },
      "source": [
        "Para aplicar los operadores matemáticos y lógicos tenemos en cuenta lo que llamamos **Diagramas de flujos**, esto nos permite mayor organización de las ideas para la toma de decisiones."
      ]
    },
    {
      "cell_type": "markdown",
      "metadata": {
        "id": "Db1lJB9F8LRs"
      },
      "source": [
        "**El Comando IF**\n",
        "\n",
        "---\n",
        "\n",
        "Este comando permite evaluar si una sentencia es verdadero o falsa. Es decir, se ejecuta una acción establecida mediante un coido de instruccion o varias instrucciones inmmediatamente en las lineas siguientes a dicha condición."
      ]
    },
    {
      "cell_type": "code",
      "metadata": {
        "colab": {
          "base_uri": "https://localhost:8080/"
        },
        "id": "0v3orL3qBlYn",
        "outputId": "56334647-946a-49e2-9674-52784d6d7128"
      },
      "source": [
        "num = int(input (\"Escribir un número cualquiera: \"))  # todo lo que ingrese será reconocido como tipo cadena y toca hacer transformación a int\n",
        "if num == 200:\n",
        "  print(\"Escribiste el 200\")\n",
        "else:\n",
        "  print(\"El número escrito NO ES 200\")\n"
      ],
      "execution_count": 17,
      "outputs": [
        {
          "output_type": "stream",
          "text": [
            "Escribir un número cualquiera: 200\n",
            "Escribiste el 200\n"
          ],
          "name": "stdout"
        }
      ]
    },
    {
      "cell_type": "markdown",
      "metadata": {
        "id": "GgO2YS39CNyx"
      },
      "source": [
        "**El comando ELSE**\n",
        "\n",
        "---\n",
        "En español es conocido como *\"si no\"* Este comando permite relacionar las acciones que deberia realizar en caso de que la condición sea falsa"
      ]
    },
    {
      "cell_type": "markdown",
      "metadata": {
        "id": "61iwdduDD3SI"
      },
      "source": [
        "**El comando ELIF**\n",
        "\n",
        "---\n",
        "Significa \"sino, si\" y permite concatenar condiciones:"
      ]
    },
    {
      "cell_type": "code",
      "metadata": {
        "colab": {
          "base_uri": "https://localhost:8080/"
        },
        "id": "ap3NoiDRDzEV",
        "outputId": "6c91d935-0cfb-406f-c53d-f5bc78b482f1"
      },
      "source": [
        "num = int(input (\"Escribir un número cualquiera: \"))  # todo lo que ingrese será reconocido como tipo cadena y toca hacer transformación a int\n",
        "if num == 200:\n",
        "  print(\"Escribiste el 200\")\n",
        "elif num>200:\n",
        "    print(\"El número escrito es MAYOR A 200\")\n",
        "else:\n",
        "  print(\"El número escrito NO ES 200\")"
      ],
      "execution_count": 15,
      "outputs": [
        {
          "output_type": "stream",
          "text": [
            "Escribir un número cualquiera: 100\n",
            "El número escrito NO ES 200\n"
          ],
          "name": "stdout"
        }
      ]
    },
    {
      "cell_type": "code",
      "metadata": {
        "colab": {
          "base_uri": "https://localhost:8080/"
        },
        "id": "R9WqITQ_F_4j",
        "outputId": "49695068-1cd4-4923-b179-da247d7c5251"
      },
      "source": [
        "num = int(input (\"Escribir un número cualquiera: \"))  # todo lo que ingrese será reconocido como tipo cadena y toca hacer transformación a int\n",
        "if num == 200:\n",
        "  print(\"Escribiste el 200\")\n",
        "if num>200:\n",
        "    print(\"El número escrito es MAYOR A 200\")\n",
        "else:\n",
        "  print(\"El número escrito NO ES 200\")\n"
      ],
      "execution_count": 23,
      "outputs": [
        {
          "output_type": "stream",
          "text": [
            "Escribir un número cualquiera: 250\n",
            "El número escrito es MAYOR A 200\n"
          ],
          "name": "stdout"
        }
      ]
    }
  ]
}