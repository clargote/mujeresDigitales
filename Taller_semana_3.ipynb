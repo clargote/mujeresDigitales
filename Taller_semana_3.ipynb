{
  "nbformat": 4,
  "nbformat_minor": 5,
  "metadata": {
    "kernelspec": {
      "display_name": "Python 3",
      "language": "python",
      "name": "python3"
    },
    "language_info": {
      "codemirror_mode": {
        "name": "ipython",
        "version": 3
      },
      "file_extension": ".py",
      "mimetype": "text/x-python",
      "name": "python",
      "nbconvert_exporter": "python",
      "pygments_lexer": "ipython3",
      "version": "3.8.11"
    },
    "colab": {
      "name": "Taller semana 3.ipynb",
      "provenance": [],
      "include_colab_link": true
    }
  },
  "cells": [
    {
      "cell_type": "markdown",
      "metadata": {
        "id": "view-in-github",
        "colab_type": "text"
      },
      "source": [
        "<a href=\"https://colab.research.google.com/github/clargote/mujeresDigitales/blob/main/Taller_semana_3.ipynb\" target=\"_parent\"><img src=\"https://colab.research.google.com/assets/colab-badge.svg\" alt=\"Open In Colab\"/></a>"
      ]
    },
    {
      "cell_type": "markdown",
      "metadata": {
        "id": "08e8fc9c"
      },
      "source": [
        "# Taller semana 3"
      ],
      "id": "08e8fc9c"
    },
    {
      "cell_type": "markdown",
      "metadata": {
        "id": "eaa5a1ca"
      },
      "source": [
        "## Ejercicio 1:\n",
        "\n",
        "Cargue los datos del archivo ```pokemon_data.csv``` a un dataframe, cree una columna que se llame interes asignándole el valor False, luego cambie el valor de esta columna solo para los pokemon que sean legendarios (Legendary = True) y que el Type 1 sea fuego."
      ],
      "id": "eaa5a1ca"
    },
    {
      "cell_type": "code",
      "metadata": {
        "id": "16aff8b8"
      },
      "source": [
        "import pandas as pd"
      ],
      "id": "16aff8b8",
      "execution_count": 3,
      "outputs": []
    },
    {
      "cell_type": "code",
      "metadata": {
        "colab": {
          "base_uri": "https://localhost:8080/",
          "height": 202
        },
        "id": "8032ee74",
        "outputId": "a5a450d0-aa39-4f26-850a-b35c0b323156"
      },
      "source": [
        "    #CARGAR ARCHIVO\n",
        "pokemon = pd.read_csv('pokemon_data.csv',sep=\",\")\n",
        "pokemon\n",
        " \n",
        "    #CREAR COLUMNA--->interes Y LE ASIGNA EL VALOR DE False\n",
        "pokemon['interes']='False'\n",
        "pokemon\n",
        " \n",
        "    #CONSULTAR VALORES A POKEMONES legendary=True Y Type1=Fire QUE TIENEN EN interes=False\n",
        "a=pokemon.loc[(pokemon['Legendary']== True) & (pokemon['Type 1'] =='Fire')]\n",
        "a\n",
        "\n",
        "    #CAMBIAR VALOR A POKEMONES legendary=True Y Type1=Fire \n",
        "pokemon.loc[((pokemon['Legendary']== True) & (pokemon['Type 1'] =='Fire')), ['interes'] ]= True\n",
        "pokemon\n",
        "\n",
        "    #CONSULTAR LOS DATOS DE interes =True\n",
        "pokemon.loc[(pokemon['Legendary']== True) & (pokemon['Type 1'] =='Fire')]\n",
        "\n"
      ],
      "id": "8032ee74",
      "execution_count": 113,
      "outputs": [
        {
          "output_type": "execute_result",
          "data": {
            "text/html": [
              "<div>\n",
              "<style scoped>\n",
              "    .dataframe tbody tr th:only-of-type {\n",
              "        vertical-align: middle;\n",
              "    }\n",
              "\n",
              "    .dataframe tbody tr th {\n",
              "        vertical-align: top;\n",
              "    }\n",
              "\n",
              "    .dataframe thead th {\n",
              "        text-align: right;\n",
              "    }\n",
              "</style>\n",
              "<table border=\"1\" class=\"dataframe\">\n",
              "  <thead>\n",
              "    <tr style=\"text-align: right;\">\n",
              "      <th></th>\n",
              "      <th>#</th>\n",
              "      <th>Name</th>\n",
              "      <th>Type 1</th>\n",
              "      <th>Type 2</th>\n",
              "      <th>HP</th>\n",
              "      <th>Attack</th>\n",
              "      <th>Defense</th>\n",
              "      <th>Sp. Atk</th>\n",
              "      <th>Sp. Def</th>\n",
              "      <th>Speed</th>\n",
              "      <th>Generation</th>\n",
              "      <th>Legendary</th>\n",
              "      <th>interes</th>\n",
              "    </tr>\n",
              "  </thead>\n",
              "  <tbody>\n",
              "    <tr>\n",
              "      <th>158</th>\n",
              "      <td>146</td>\n",
              "      <td>Moltres</td>\n",
              "      <td>Fire</td>\n",
              "      <td>Flying</td>\n",
              "      <td>90</td>\n",
              "      <td>100</td>\n",
              "      <td>90</td>\n",
              "      <td>125</td>\n",
              "      <td>85</td>\n",
              "      <td>90</td>\n",
              "      <td>1</td>\n",
              "      <td>True</td>\n",
              "      <td>True</td>\n",
              "    </tr>\n",
              "    <tr>\n",
              "      <th>263</th>\n",
              "      <td>244</td>\n",
              "      <td>Entei</td>\n",
              "      <td>Fire</td>\n",
              "      <td>NaN</td>\n",
              "      <td>115</td>\n",
              "      <td>115</td>\n",
              "      <td>85</td>\n",
              "      <td>90</td>\n",
              "      <td>75</td>\n",
              "      <td>100</td>\n",
              "      <td>2</td>\n",
              "      <td>True</td>\n",
              "      <td>True</td>\n",
              "    </tr>\n",
              "    <tr>\n",
              "      <th>270</th>\n",
              "      <td>250</td>\n",
              "      <td>Ho-oh</td>\n",
              "      <td>Fire</td>\n",
              "      <td>Flying</td>\n",
              "      <td>106</td>\n",
              "      <td>130</td>\n",
              "      <td>90</td>\n",
              "      <td>110</td>\n",
              "      <td>154</td>\n",
              "      <td>90</td>\n",
              "      <td>2</td>\n",
              "      <td>True</td>\n",
              "      <td>True</td>\n",
              "    </tr>\n",
              "    <tr>\n",
              "      <th>542</th>\n",
              "      <td>485</td>\n",
              "      <td>Heatran</td>\n",
              "      <td>Fire</td>\n",
              "      <td>Steel</td>\n",
              "      <td>91</td>\n",
              "      <td>90</td>\n",
              "      <td>106</td>\n",
              "      <td>130</td>\n",
              "      <td>106</td>\n",
              "      <td>77</td>\n",
              "      <td>4</td>\n",
              "      <td>True</td>\n",
              "      <td>True</td>\n",
              "    </tr>\n",
              "    <tr>\n",
              "      <th>799</th>\n",
              "      <td>721</td>\n",
              "      <td>Volcanion</td>\n",
              "      <td>Fire</td>\n",
              "      <td>Water</td>\n",
              "      <td>80</td>\n",
              "      <td>110</td>\n",
              "      <td>120</td>\n",
              "      <td>130</td>\n",
              "      <td>90</td>\n",
              "      <td>70</td>\n",
              "      <td>6</td>\n",
              "      <td>True</td>\n",
              "      <td>True</td>\n",
              "    </tr>\n",
              "  </tbody>\n",
              "</table>\n",
              "</div>"
            ],
            "text/plain": [
              "       #       Name Type 1  Type 2  ...  Speed  Generation  Legendary  interes\n",
              "158  146    Moltres   Fire  Flying  ...     90           1       True     True\n",
              "263  244      Entei   Fire     NaN  ...    100           2       True     True\n",
              "270  250      Ho-oh   Fire  Flying  ...     90           2       True     True\n",
              "542  485    Heatran   Fire   Steel  ...     77           4       True     True\n",
              "799  721  Volcanion   Fire   Water  ...     70           6       True     True\n",
              "\n",
              "[5 rows x 13 columns]"
            ]
          },
          "metadata": {},
          "execution_count": 113
        }
      ]
    },
    {
      "cell_type": "markdown",
      "metadata": {
        "id": "da0f488d"
      },
      "source": [
        "## Ejercicio 2\n",
        "\n",
        "Con los datos de pokemones anteriores, escriba un código para sacar el promedio de la columna Attack agrupado por Type 1."
      ],
      "id": "da0f488d"
    },
    {
      "cell_type": "code",
      "metadata": {
        "id": "f4434c55",
        "colab": {
          "base_uri": "https://localhost:8080/"
        },
        "outputId": "bb623cba-7572-4134-ba9b-bff4d8f9143f"
      },
      "source": [
        "    #AGRUPACIÓN DE LOS DATOS POR Type 1\n",
        "a=pokemon.groupby(['Type 1'])\n",
        "\n",
        "    #PROMEDIO DE LOS VALORES DE LA COLUMNA Attack SEGUN LA CLASIFICACION DE type 1\n",
        "b=a['Attack'].mean()\n",
        "print(\"El promedio de los datos Attack agrupado por Type 1 es: \",\"\\n\",b)"
      ],
      "id": "f4434c55",
      "execution_count": 112,
      "outputs": [
        {
          "output_type": "stream",
          "text": [
            "El promedio de los datos Attack agrupado por Type 1 es:  \n",
            " Type 1\n",
            "Bug          70.971014\n",
            "Dark         88.387097\n",
            "Dragon      112.125000\n",
            "Electric     69.090909\n",
            "Fairy        61.529412\n",
            "Fighting     96.777778\n",
            "Fire         84.769231\n",
            "Flying       78.750000\n",
            "Ghost        73.781250\n",
            "Grass        73.214286\n",
            "Ground       95.750000\n",
            "Ice          72.750000\n",
            "Normal       73.469388\n",
            "Poison       74.678571\n",
            "Psychic      71.456140\n",
            "Rock         92.863636\n",
            "Steel        92.703704\n",
            "Water        74.151786\n",
            "Name: Attack, dtype: float64\n"
          ],
          "name": "stdout"
        }
      ]
    },
    {
      "cell_type": "markdown",
      "metadata": {
        "id": "45f0cbc3"
      },
      "source": [
        "## Ejercicio 3\n",
        "\n",
        "Se le entregan los datos de movimientos de acciones en el archivo ```DUK.csv```, y se le pide que entregue el promedio de Open del 2015, es decir entre las fechas 2015-01-01 y 2015-12-31"
      ],
      "id": "45f0cbc3"
    },
    {
      "cell_type": "code",
      "metadata": {
        "id": "704ec036",
        "colab": {
          "base_uri": "https://localhost:8080/"
        },
        "outputId": "ce043bd8-fe41-42a4-e3ff-5c3e2e312ab9"
      },
      "source": [
        "#CARGAR ARCHIVO\n",
        "duk = pd.read_csv('DUK.csv',sep=\",\")\n",
        "duk\n",
        "\n",
        "#CONVERTIR LOS DATOS DE DATE DE STRING A FECHA\n",
        "duk['Date'] = pd.to_datetime(duk['Date'])\n",
        "#print(open.dtypes)\n",
        "\n",
        "#AGRUPA LOS DATOS DEL AÑO 2015\n",
        "anual=duk[ (duk['Date'] >= '2015-01-01') & (duk['Date'] <= '2015-12-31')]\n",
        "#print(anual)\n",
        "\n",
        "#PROMEDIO DE LA COLUMNA OPEN PARA EL AÑO 2015\n",
        "promedio=anual['Open'].mean()\n",
        "print(\"El promedio de OPEN 2015 es: \",promedio)\n"
      ],
      "id": "704ec036",
      "execution_count": 106,
      "outputs": [
        {
          "output_type": "stream",
          "text": [
            "El promedio de OPEN 2015 es:  74.8137697698413\n"
          ],
          "name": "stdout"
        }
      ]
    }
  ]
}