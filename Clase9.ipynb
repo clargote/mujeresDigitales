{
  "nbformat": 4,
  "nbformat_minor": 0,
  "metadata": {
    "colab": {
      "name": "Clase9.ipynb",
      "provenance": [],
      "authorship_tag": "ABX9TyPTlDfWpd2TBupXkchYRhzR",
      "include_colab_link": true
    },
    "kernelspec": {
      "name": "python3",
      "display_name": "Python 3"
    },
    "language_info": {
      "name": "python"
    }
  },
  "cells": [
    {
      "cell_type": "markdown",
      "metadata": {
        "id": "view-in-github",
        "colab_type": "text"
      },
      "source": [
        "<a href=\"https://colab.research.google.com/github/clargote/mujeresDigitales/blob/main/Clase9.ipynb\" target=\"_parent\"><img src=\"https://colab.research.google.com/assets/colab-badge.svg\" alt=\"Open In Colab\"/></a>"
      ]
    },
    {
      "cell_type": "markdown",
      "metadata": {
        "id": "8T0w1QTQbV8P"
      },
      "source": [
        "Docente: Sebastian Duque\n",
        "\n",
        "\n",
        "SERIES\n",
        "---\n",
        "Se usan para modelar "
      ]
    },
    {
      "cell_type": "code",
      "metadata": {
        "colab": {
          "base_uri": "https://localhost:8080/"
        },
        "id": "xhqB7V7JuwTq",
        "outputId": "9c06c66e-0b91-463b-ffd0-93de2cfbdc54"
      },
      "source": [
        "import pandas as pd #alias pd\n",
        "pd.Series([145,142,35,13]) "
      ],
      "execution_count": 9,
      "outputs": [
        {
          "output_type": "execute_result",
          "data": {
            "text/plain": [
              "0    145\n",
              "1    142\n",
              "2     35\n",
              "3     13\n",
              "dtype: int64"
            ]
          },
          "metadata": {
            "tags": []
          },
          "execution_count": 9
        }
      ]
    },
    {
      "cell_type": "code",
      "metadata": {
        "colab": {
          "base_uri": "https://localhost:8080/"
        },
        "id": "UnoAoL2MbR4X",
        "outputId": "b27aaa21-2ae6-4485-a05e-792b2b05c93b"
      },
      "source": [
        "import pandas as pd #alias pd\n",
        "david= pd.Series([145,142,35,13],name=\"counts\")  #convertió una lista en series, el nombre es conteo\n",
        "print(type(david))\n",
        "david"
      ],
      "execution_count": 11,
      "outputs": [
        {
          "output_type": "stream",
          "text": [
            "<class 'pandas.core.series.Series'>\n"
          ],
          "name": "stdout"
        },
        {
          "output_type": "execute_result",
          "data": {
            "text/plain": [
              "0    145\n",
              "1    142\n",
              "2     35\n",
              "3     13\n",
              "Name: counts, dtype: int64"
            ]
          },
          "metadata": {
            "tags": []
          },
          "execution_count": 11
        }
      ]
    },
    {
      "cell_type": "code",
      "metadata": {
        "colab": {
          "base_uri": "https://localhost:8080/"
        },
        "id": "pz_aHic6vG1y",
        "outputId": "bf3252fe-827d-49e9-cae0-851ee3720e85"
      },
      "source": [
        "import pandas as pd #alias pd\n",
        "david= pd.Series([145,142,35,13,\"abc\"],name=\"counts\")  #cambio tipo de datos\n",
        "print(type(david))\n",
        "david"
      ],
      "execution_count": 12,
      "outputs": [
        {
          "output_type": "stream",
          "text": [
            "<class 'pandas.core.series.Series'>\n"
          ],
          "name": "stdout"
        },
        {
          "output_type": "execute_result",
          "data": {
            "text/plain": [
              "0    145\n",
              "1    142\n",
              "2     35\n",
              "3     13\n",
              "4    abc\n",
              "Name: counts, dtype: object"
            ]
          },
          "metadata": {
            "tags": []
          },
          "execution_count": 12
        }
      ]
    },
    {
      "cell_type": "code",
      "metadata": {
        "colab": {
          "base_uri": "https://localhost:8080/"
        },
        "id": "lk8eRLWEuh7o",
        "outputId": "a5f7be20-ce94-4439-f257-87b80ebcc5f2"
      },
      "source": [
        "import pandas as pd #alias pd\n",
        "david= pd.Series([\"a\",\"b\",\"c\"])  #convertió una lista en series\n",
        "print(type(david))\n",
        "david"
      ],
      "execution_count": 10,
      "outputs": [
        {
          "output_type": "stream",
          "text": [
            "<class 'pandas.core.series.Series'>\n"
          ],
          "name": "stdout"
        },
        {
          "output_type": "execute_result",
          "data": {
            "text/plain": [
              "0    a\n",
              "1    b\n",
              "2    c\n",
              "dtype: object"
            ]
          },
          "metadata": {
            "tags": []
          },
          "execution_count": 10
        }
      ]
    },
    {
      "cell_type": "markdown",
      "metadata": {
        "id": "Tzg7hiswt-Uc"
      },
      "source": [
        ""
      ]
    },
    {
      "cell_type": "code",
      "metadata": {
        "colab": {
          "base_uri": "https://localhost:8080/"
        },
        "id": "B4z_q2mrvS-a",
        "outputId": "7d5c04db-108e-42d9-ecf6-e07009b82d77"
      },
      "source": [
        "print(david.index)"
      ],
      "execution_count": 14,
      "outputs": [
        {
          "output_type": "stream",
          "text": [
            "RangeIndex(start=0, stop=5, step=1)\n"
          ],
          "name": "stdout"
        }
      ]
    },
    {
      "cell_type": "code",
      "metadata": {
        "colab": {
          "base_uri": "https://localhost:8080/"
        },
        "id": "3d-2U43ovZyx",
        "outputId": "262768ff-59c8-4974-eb7e-2323af66b5af"
      },
      "source": [
        "print(david.values)"
      ],
      "execution_count": 16,
      "outputs": [
        {
          "output_type": "stream",
          "text": [
            "[145 142 35 13 'abc']\n"
          ],
          "name": "stdout"
        }
      ]
    },
    {
      "cell_type": "code",
      "metadata": {
        "colab": {
          "base_uri": "https://localhost:8080/"
        },
        "id": "PBA5jNMPvjRB",
        "outputId": "8f8091c0-bfb1-4464-ae32-57ba8e71b47e"
      },
      "source": [
        "print(type((david.values)))"
      ],
      "execution_count": 17,
      "outputs": [
        {
          "output_type": "stream",
          "text": [
            "<class 'numpy.ndarray'>\n"
          ],
          "name": "stdout"
        }
      ]
    },
    {
      "cell_type": "code",
      "metadata": {
        "colab": {
          "base_uri": "https://localhost:8080/"
        },
        "id": "k2wHBHFqvsvh",
        "outputId": "99bd4f3a-a879-42c0-cd09-131c43e196f7"
      },
      "source": [
        "#El indice no necesariamente tiene que ser un número\n",
        "david3 = pd.Series([145,142,38,13],name=\"counts\",index=[\"juan\",\"pedro\",\"andrea\",\"nicol\"])\n",
        "print(david3)\n",
        "print(\"----\")\n",
        "print(david3.index)\n",
        "print(\"----\")\n",
        "print(david3.values)"
      ],
      "execution_count": 54,
      "outputs": [
        {
          "output_type": "stream",
          "text": [
            "juan      145\n",
            "pedor     142\n",
            "andrea     38\n",
            "nicol      13\n",
            "Name: counts, dtype: int64\n",
            "----\n",
            "Index(['juan', 'pedor', 'andrea', 'nicol'], dtype='object')\n",
            "----\n",
            "[145 142  38  13]\n"
          ],
          "name": "stdout"
        }
      ]
    },
    {
      "cell_type": "code",
      "metadata": {
        "colab": {
          "base_uri": "https://localhost:8080/"
        },
        "id": "3JX3OnfF1OtJ",
        "outputId": "7bf4f8cd-54b0-4fb7-8890-6b157773963b"
      },
      "source": [
        "david3[\"juan\"]"
      ],
      "execution_count": 52,
      "outputs": [
        {
          "output_type": "execute_result",
          "data": {
            "text/plain": [
              "145"
            ]
          },
          "metadata": {
            "tags": []
          },
          "execution_count": 52
        }
      ]
    },
    {
      "cell_type": "code",
      "metadata": {
        "colab": {
          "base_uri": "https://localhost:8080/"
        },
        "id": "Zb9L1mV31a6s",
        "outputId": "6b9b800e-1813-41c9-d6aa-fa027a5e204c"
      },
      "source": [
        "david3[[\"andrea\",\"juan\"]]"
      ],
      "execution_count": 51,
      "outputs": [
        {
          "output_type": "execute_result",
          "data": {
            "text/plain": [
              "andrea     38\n",
              "juan      145\n",
              "Name: counts, dtype: int64"
            ]
          },
          "metadata": {
            "tags": []
          },
          "execution_count": 51
        }
      ]
    },
    {
      "cell_type": "markdown",
      "metadata": {
        "id": "3ohHT0E4xSVw"
      },
      "source": [
        "Serie de números impares\n",
        "----"
      ]
    },
    {
      "cell_type": "markdown",
      "metadata": {
        "id": "VeYCfKFpzZm_"
      },
      "source": [
        "1. A partir de una lista"
      ]
    },
    {
      "cell_type": "code",
      "metadata": {
        "colab": {
          "base_uri": "https://localhost:8080/"
        },
        "id": "BrJIfdtfwdd5",
        "outputId": "61b4cf0b-4714-44e4-a2aa-633f2270e3be"
      },
      "source": [
        "import pandas as pd   #primero importar libreria Pandas\n",
        "impares=pd.Series([1,3,5,7,9,11,13,15],name=\"impares\")\n",
        "print(impares)"
      ],
      "execution_count": 43,
      "outputs": [
        {
          "output_type": "stream",
          "text": [
            "0     1\n",
            "1     3\n",
            "2     5\n",
            "3     7\n",
            "4     9\n",
            "5    11\n",
            "6    13\n",
            "7    15\n",
            "Name: impares, dtype: int64\n"
          ],
          "name": "stdout"
        }
      ]
    },
    {
      "cell_type": "markdown",
      "metadata": {
        "id": "Xui9EMF4zdtb"
      },
      "source": [
        "2. A partir de la funcion range"
      ]
    },
    {
      "cell_type": "code",
      "metadata": {
        "colab": {
          "base_uri": "https://localhost:8080/"
        },
        "id": "xn3UDokVyoYL",
        "outputId": "55141831-82cc-414a-fa69-e7385e4ddd7e"
      },
      "source": [
        "import pandas as pd\n",
        "impares=pd.Series(range(1,16,2),name=\"impares\")\n",
        "print(impares)"
      ],
      "execution_count": 34,
      "outputs": [
        {
          "output_type": "stream",
          "text": [
            "0     1\n",
            "1     3\n",
            "2     5\n",
            "3     7\n",
            "4     9\n",
            "5    11\n",
            "6    13\n",
            "7    15\n",
            "Name: impares, dtype: int64\n"
          ],
          "name": "stdout"
        }
      ]
    },
    {
      "cell_type": "code",
      "metadata": {
        "colab": {
          "base_uri": "https://localhost:8080/"
        },
        "id": "El_1FTqcxJIi",
        "outputId": "da8eb008-d28e-4d35-c4b2-4dcff0b28354"
      },
      "source": [
        "for i in range(1,16,2):\n",
        "  print(i)\n"
      ],
      "execution_count": 42,
      "outputs": [
        {
          "output_type": "stream",
          "text": [
            "1\n",
            "3\n",
            "5\n",
            "7\n",
            "9\n",
            "11\n",
            "13\n",
            "15\n"
          ],
          "name": "stdout"
        }
      ]
    },
    {
      "cell_type": "code",
      "metadata": {
        "colab": {
          "base_uri": "https://localhost:8080/"
        },
        "id": "YVbrBQv80dgA",
        "outputId": "ac794fbf-9ffc-4565-ecc1-16457262338f"
      },
      "source": [
        "g2= pd.Series({\"1969\":7,\"1970\":[1,22]})\n",
        "print(g2)"
      ],
      "execution_count": 46,
      "outputs": [
        {
          "output_type": "stream",
          "text": [
            "1969          7\n",
            "1970    [1, 22]\n",
            "dtype: object\n"
          ],
          "name": "stdout"
        }
      ]
    },
    {
      "cell_type": "code",
      "metadata": {
        "colab": {
          "base_uri": "https://localhost:8080/",
          "height": 181
        },
        "id": "8CaUodIE06Ci",
        "outputId": "44a1c444-13ee-4e7b-890d-c4e38dcac682"
      },
      "source": [
        "cidys =pd.Series([10,7,1,22], index[\"1968\",\"1969\",\"1970\",\"1971\"])\n",
        "print(cidys[\"1968\"])"
      ],
      "execution_count": 55,
      "outputs": [
        {
          "output_type": "error",
          "ename": "NameError",
          "evalue": "ignored",
          "traceback": [
            "\u001b[0;31m---------------------------------------------------------------------------\u001b[0m",
            "\u001b[0;31mNameError\u001b[0m                                 Traceback (most recent call last)",
            "\u001b[0;32m<ipython-input-55-5035d0b7301e>\u001b[0m in \u001b[0;36m<module>\u001b[0;34m()\u001b[0m\n\u001b[0;32m----> 1\u001b[0;31m \u001b[0mcidys\u001b[0m \u001b[0;34m=\u001b[0m\u001b[0mpd\u001b[0m\u001b[0;34m.\u001b[0m\u001b[0mSeries\u001b[0m\u001b[0;34m(\u001b[0m\u001b[0;34m[\u001b[0m\u001b[0;36m10\u001b[0m\u001b[0;34m,\u001b[0m\u001b[0;36m7\u001b[0m\u001b[0;34m,\u001b[0m\u001b[0;36m1\u001b[0m\u001b[0;34m,\u001b[0m\u001b[0;36m22\u001b[0m\u001b[0;34m]\u001b[0m\u001b[0;34m,\u001b[0m \u001b[0mindex\u001b[0m\u001b[0;34m[\u001b[0m\u001b[0;34m\"1968\"\u001b[0m\u001b[0;34m,\u001b[0m\u001b[0;34m\"1969\"\u001b[0m\u001b[0;34m,\u001b[0m\u001b[0;34m\"1970\"\u001b[0m\u001b[0;34m,\u001b[0m\u001b[0;34m\"1971\"\u001b[0m\u001b[0;34m]\u001b[0m\u001b[0;34m)\u001b[0m\u001b[0;34m\u001b[0m\u001b[0;34m\u001b[0m\u001b[0m\n\u001b[0m\u001b[1;32m      2\u001b[0m \u001b[0mprint\u001b[0m\u001b[0;34m(\u001b[0m\u001b[0mcidys\u001b[0m\u001b[0;34m)\u001b[0m\u001b[0;34m\u001b[0m\u001b[0;34m\u001b[0m\u001b[0m\n",
            "\u001b[0;31mNameError\u001b[0m: name 'index' is not defined"
          ]
        }
      ]
    },
    {
      "cell_type": "markdown",
      "metadata": {
        "id": "_Pn5DLTJ2Th0"
      },
      "source": [
        "a partir de la serie de 1 al 15 de numeros impares, usando esta serie y vamos a obtener los valores del indice del 2 al valor 4"
      ]
    },
    {
      "cell_type": "code",
      "metadata": {
        "colab": {
          "base_uri": "https://localhost:8080/"
        },
        "id": "BIi63qAs2OTs",
        "outputId": "c281d227-8064-41d5-c4b0-fa3f717c75df"
      },
      "source": [
        "import pandas as pd  \n",
        "impares=pd.Series([1,3,5,7,9,11,13,15])\n",
        "\n",
        "#obtener los indices desde el 2 al 4\n",
        "impares[2:5]"
      ],
      "execution_count": 65,
      "outputs": [
        {
          "output_type": "execute_result",
          "data": {
            "text/plain": [
              "2    5\n",
              "3    7\n",
              "4    9\n",
              "dtype: int64"
            ]
          },
          "metadata": {
            "tags": []
          },
          "execution_count": 65
        }
      ]
    },
    {
      "cell_type": "markdown",
      "metadata": {
        "id": "1GcEUhGf4WYo"
      },
      "source": [
        "Condicional para saber si es mayor a 10 hasta el elemento 5.\n",
        "Se genera una serie de booleanos"
      ]
    },
    {
      "cell_type": "code",
      "metadata": {
        "colab": {
          "base_uri": "https://localhost:8080/"
        },
        "id": "NflcE8Qi4R3P",
        "outputId": "a99e312d-7221-4450-f032-70b8bc2294e3"
      },
      "source": [
        "impares>10"
      ],
      "execution_count": 66,
      "outputs": [
        {
          "output_type": "execute_result",
          "data": {
            "text/plain": [
              "0    False\n",
              "1    False\n",
              "2    False\n",
              "3    False\n",
              "4    False\n",
              "5     True\n",
              "6     True\n",
              "7     True\n",
              "dtype: bool"
            ]
          },
          "metadata": {
            "tags": []
          },
          "execution_count": 66
        }
      ]
    },
    {
      "cell_type": "markdown",
      "metadata": {
        "id": "fNMGFSXx4s4U"
      },
      "source": [
        "Me trae que valores son mayores a 10, para eso asignamos a esa variable mask y  filtramos la serie original"
      ]
    },
    {
      "cell_type": "code",
      "metadata": {
        "id": "bHaj40To4jlf"
      },
      "source": [
        "mask=impares>10"
      ],
      "execution_count": 67,
      "outputs": []
    },
    {
      "cell_type": "code",
      "metadata": {
        "colab": {
          "base_uri": "https://localhost:8080/"
        },
        "id": "prU0Tq9F4nhF",
        "outputId": "8b047515-7075-4c1c-91ae-a62d21afad21"
      },
      "source": [
        "impares[mask]   "
      ],
      "execution_count": 68,
      "outputs": [
        {
          "output_type": "execute_result",
          "data": {
            "text/plain": [
              "5    11\n",
              "6    13\n",
              "7    15\n",
              "dtype: int64"
            ]
          },
          "metadata": {
            "tags": []
          },
          "execution_count": 68
        }
      ]
    },
    {
      "cell_type": "markdown",
      "metadata": {
        "id": "7YZ_NXuH5Ruz"
      },
      "source": [
        "Modificar un valor\n",
        "----\n"
      ]
    },
    {
      "cell_type": "code",
      "metadata": {
        "colab": {
          "base_uri": "https://localhost:8080/"
        },
        "id": "hl1X-Vvc5TtF",
        "outputId": "eb481543-c566-4ff5-96ba-4bc6b6192081"
      },
      "source": [
        " cidys= pd.Series([10,7], index=[\"1969\",\"1970\"])\n",
        "print(cidys)\n",
        "\n",
        " #Actualizar un valor\n",
        "cidys[\"1969\"]=3\n",
        " print(\"\\n\",cidys)"
      ],
      "execution_count": 74,
      "outputs": [
        {
          "output_type": "stream",
          "text": [
            "1969    10\n",
            "1970     7\n",
            "dtype: int64\n",
            "\n",
            " 1969    3\n",
            "1970    7\n",
            "dtype: int64\n"
          ],
          "name": "stdout"
        }
      ]
    },
    {
      "cell_type": "code",
      "metadata": {
        "id": "qdPlb_Bq6eLU"
      },
      "source": [
        "cidys=append(pd.Series([\"1974\":9])"
      ],
      "execution_count": null,
      "outputs": []
    },
    {
      "cell_type": "markdown",
      "metadata": {
        "id": "h3LhrrMa6a7Q"
      },
      "source": [
        "Agrgar un valor\n",
        "---"
      ]
    },
    {
      "cell_type": "code",
      "metadata": {
        "colab": {
          "base_uri": "https://localhost:8080/"
        },
        "id": "QO1-KM1R6GPV",
        "outputId": "642fa5da-acd0-421f-8aef-b6eb78de9052"
      },
      "source": [
        "l=[1,2]\n",
        ".append(3)\n",
        "l"
      ],
      "execution_count": 77,
      "outputs": [
        {
          "output_type": "execute_result",
          "data": {
            "text/plain": [
              "[1, 2, 3]"
            ]
          },
          "metadata": {
            "tags": []
          },
          "execution_count": 77
        }
      ]
    },
    {
      "cell_type": "markdown",
      "metadata": {
        "id": "PFbK4naK7Mp9"
      },
      "source": [
        "Eliminar valor\n",
        "---\n"
      ]
    },
    {
      "cell_type": "code",
      "metadata": {
        "colab": {
          "base_uri": "https://localhost:8080/"
        },
        "id": "kJLZ3spx65W0",
        "outputId": "0d2fff1d-49da-482c-ecbe-71fb071e7fad"
      },
      "source": [
        "del l[1]\n",
        "l"
      ],
      "execution_count": 78,
      "outputs": [
        {
          "output_type": "execute_result",
          "data": {
            "text/plain": [
              "[1, 3]"
            ]
          },
          "metadata": {
            "tags": []
          },
          "execution_count": 78
        }
      ]
    },
    {
      "cell_type": "code",
      "metadata": {
        "colab": {
          "base_uri": "https://localhost:8080/"
        },
        "id": "1yE7XSt67PLD",
        "outputId": "e0b3cd99-7dbe-42c0-cb5b-e4f4d6bf41e2"
      },
      "source": [
        "cidys"
      ],
      "execution_count": 79,
      "outputs": [
        {
          "output_type": "execute_result",
          "data": {
            "text/plain": [
              "1969    3\n",
              "1970    7\n",
              "dtype: int64"
            ]
          },
          "metadata": {
            "tags": []
          },
          "execution_count": 79
        }
      ]
    },
    {
      "cell_type": "code",
      "metadata": {
        "colab": {
          "base_uri": "https://localhost:8080/"
        },
        "id": "7penMZyQ7XgF",
        "outputId": "13707811-b24d-437e-b956-bb6bbbc595f7"
      },
      "source": [
        "cidys[\"1970\"]\n",
        "cidys.loc[\"1970\"]   #en la serie tenemos una sola columna pero en los dataframe si sirviria"
      ],
      "execution_count": 81,
      "outputs": [
        {
          "output_type": "execute_result",
          "data": {
            "text/plain": [
              "7"
            ]
          },
          "metadata": {
            "tags": []
          },
          "execution_count": 81
        }
      ]
    },
    {
      "cell_type": "code",
      "metadata": {
        "colab": {
          "base_uri": "https://localhost:8080/"
        },
        "id": "0zbODmOa7oWK",
        "outputId": "2ab83687-ec0a-4b86-d163-4e4052f3455b"
      },
      "source": [
        "cidys.iloc[0] #por el indice"
      ],
      "execution_count": 82,
      "outputs": [
        {
          "output_type": "execute_result",
          "data": {
            "text/plain": [
              "3"
            ]
          },
          "metadata": {
            "tags": []
          },
          "execution_count": 82
        }
      ]
    },
    {
      "cell_type": "markdown",
      "metadata": {
        "id": "V70CNVAZ8P52"
      },
      "source": [
        "ejercicio\n",
        "----"
      ]
    },
    {
      "cell_type": "code",
      "metadata": {
        "colab": {
          "base_uri": "https://localhost:8080/"
        },
        "id": "X1n1KsQB8Nlw",
        "outputId": "71027299-8f86-4227-ba82-091792b123ed"
      },
      "source": [
        "impares"
      ],
      "execution_count": 83,
      "outputs": [
        {
          "output_type": "execute_result",
          "data": {
            "text/plain": [
              "0     1\n",
              "1     3\n",
              "2     5\n",
              "3     7\n",
              "4     9\n",
              "5    11\n",
              "6    13\n",
              "7    15\n",
              "dtype: int64"
            ]
          },
          "metadata": {
            "tags": []
          },
          "execution_count": 83
        }
      ]
    },
    {
      "cell_type": "code",
      "metadata": {
        "colab": {
          "base_uri": "https://localhost:8080/"
        },
        "id": "cFw7HPUf8PYy",
        "outputId": "8f2d6b75-df55-4cbe-8319-ef1f993f887e"
      },
      "source": [
        "impares.iloc[2:4]"
      ],
      "execution_count": 85,
      "outputs": [
        {
          "output_type": "execute_result",
          "data": {
            "text/plain": [
              "2    5\n",
              "3    7\n",
              "dtype: int64"
            ]
          },
          "metadata": {
            "tags": []
          },
          "execution_count": 85
        }
      ]
    },
    {
      "cell_type": "code",
      "metadata": {
        "colab": {
          "base_uri": "https://localhost:8080/"
        },
        "id": "2Z4Bxw1J9G4c",
        "outputId": "316e34ae-d60f-4fe5-8c37-b498894b3b8d"
      },
      "source": [
        "impares.loc[2:4]  #incluyente"
      ],
      "execution_count": 86,
      "outputs": [
        {
          "output_type": "execute_result",
          "data": {
            "text/plain": [
              "2    5\n",
              "3    7\n",
              "4    9\n",
              "dtype: int64"
            ]
          },
          "metadata": {
            "tags": []
          },
          "execution_count": 86
        }
      ]
    },
    {
      "cell_type": "code",
      "metadata": {
        "colab": {
          "base_uri": "https://localhost:8080/"
        },
        "id": "TVYGRqwwAWSK",
        "outputId": "30f8c5ee-945e-4055-d9de-0f0eb0fa1285"
      },
      "source": [
        "fechas=pd.to_datetime(pd.Series([\"sep 7,2001\",\"9/8/2001\",\"9-9-2001\",\"10th of september 2021\"]))\n",
        "fechas"
      ],
      "execution_count": 92,
      "outputs": [
        {
          "output_type": "execute_result",
          "data": {
            "text/plain": [
              "0   2001-09-07\n",
              "1   2001-09-08\n",
              "2   2001-09-09\n",
              "3   2021-09-10\n",
              "dtype: datetime64[ns]"
            ]
          },
          "metadata": {
            "tags": []
          },
          "execution_count": 92
        }
      ]
    },
    {
      "cell_type": "code",
      "metadata": {
        "colab": {
          "base_uri": "https://localhost:8080/"
        },
        "id": "C2XLzBcyA1AG",
        "outputId": "95766682-519e-4715-abb6-18a67c5c3797"
      },
      "source": [
        "cumple= pd.to_datetime(pd.Series([\"17-12-1983\",\"07-11-1964\",\"30-05-1958\"], index=[\"mio\",\"ama\",\"yo\"]))\n",
        "print(cumple)"
      ],
      "execution_count": 90,
      "outputs": [
        {
          "output_type": "stream",
          "text": [
            "mio   1983-12-17\n",
            "ama   1964-07-11\n",
            "yo    1958-05-30\n",
            "dtype: datetime64[ns]\n"
          ],
          "name": "stdout"
        }
      ]
    }
  ]
}