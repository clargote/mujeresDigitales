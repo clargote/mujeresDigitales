{
  "nbformat": 4,
  "nbformat_minor": 0,
  "metadata": {
    "colab": {
      "name": "Clase7.ipynb",
      "provenance": [],
      "authorship_tag": "ABX9TyPg6YtzCYNZEAyaCdWODCy1",
      "include_colab_link": true
    },
    "kernelspec": {
      "name": "python3",
      "display_name": "Python 3"
    },
    "language_info": {
      "name": "python"
    }
  },
  "cells": [
    {
      "cell_type": "markdown",
      "metadata": {
        "id": "view-in-github",
        "colab_type": "text"
      },
      "source": [
        "<a href=\"https://colab.research.google.com/github/clargote/mujeresDigitales/blob/main/Clase7.ipynb\" target=\"_parent\"><img src=\"https://colab.research.google.com/assets/colab-badge.svg\" alt=\"Open In Colab\"/></a>"
      ]
    },
    {
      "cell_type": "markdown",
      "metadata": {
        "id": "grClTG-9yvLo"
      },
      "source": [
        "**Continuación de funciones**\n",
        "\n",
        "---\n",
        "Recordemos el ejercicio de la clase pasada"
      ]
    },
    {
      "cell_type": "code",
      "metadata": {
        "id": "LKMv6xcHysvl"
      },
      "source": [
        "#Recordemos el ejercicio de la clase pasada\n",
        "\n",
        "def suma(*argumento)"
      ],
      "execution_count": null,
      "outputs": []
    }
  ]
}